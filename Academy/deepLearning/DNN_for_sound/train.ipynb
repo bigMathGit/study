{
 "cells": [
  {
   "cell_type": "code",
   "execution_count": 1,
   "metadata": {},
   "outputs": [
    {
     "name": "stdout",
     "output_type": "stream",
     "text": [
      "Collecting librosa\n",
      "  Downloading librosa-0.5.1.tar.gz (1.5MB)\n",
      "\u001b[K    100% |################################| 1.5MB 778kB/s eta 0:00:01\n",
      "\u001b[?25hCollecting audioread>=2.0.0 (from librosa)\n",
      "  Downloading audioread-2.1.5.tar.gz\n",
      "Requirement already satisfied: numpy>=1.8.0 in /home/nbcommon/anaconda3_501/lib/python3.6/site-packages (from librosa)\n",
      "Requirement already satisfied: scipy>=0.13.0 in /home/nbcommon/anaconda3_501/lib/python3.6/site-packages (from librosa)\n",
      "Requirement already satisfied: scikit-learn>=0.14.0 in /home/nbcommon/anaconda3_501/lib/python3.6/site-packages (from librosa)\n",
      "Requirement already satisfied: joblib>=0.7.0 in /home/nbcommon/anaconda3_501/lib/python3.6/site-packages (from librosa)\n",
      "Requirement already satisfied: decorator>=3.0.0 in /home/nbcommon/anaconda3_501/lib/python3.6/site-packages (from librosa)\n",
      "Requirement already satisfied: six>=1.3 in /home/nbcommon/anaconda3_501/lib/python3.6/site-packages (from librosa)\n",
      "Collecting resampy>=0.1.2 (from librosa)\n",
      "  Downloading resampy-0.2.0.tar.gz (322kB)\n",
      "\u001b[K    100% |################################| 327kB 4.4MB/s eta 0:00:01\n",
      "\u001b[?25hRequirement already satisfied: numba>=0.32 in /home/nbcommon/anaconda3_501/lib/python3.6/site-packages (from resampy>=0.1.2->librosa)\n",
      "Requirement already satisfied: llvmlite in /home/nbcommon/anaconda3_501/lib/python3.6/site-packages (from numba>=0.32->resampy>=0.1.2->librosa)\n",
      "Building wheels for collected packages: librosa, audioread, resampy\n",
      "  Running setup.py bdist_wheel for librosa ... \u001b[?25ldone\n",
      "\u001b[?25h  Stored in directory: /home/nbuser/.cache/pip/wheels/7a/bf/9f/fc279e1814da2144161848a7419cdcf923d0c03f481abe7904\n",
      "  Running setup.py bdist_wheel for audioread ... \u001b[?25ldone\n",
      "\u001b[?25h  Stored in directory: /home/nbuser/.cache/pip/wheels/47/cc/d8/e1476000d1720a72117ef5c0b1a51388b8567ebfface47ede7\n",
      "  Running setup.py bdist_wheel for resampy ... \u001b[?25ldone\n",
      "\u001b[?25h  Stored in directory: /home/nbuser/.cache/pip/wheels/c6/8e/c0/4c402972789ddf6d2d701468417de19d0cad28bd698a867e2d\n",
      "Successfully built librosa audioread resampy\n",
      "Installing collected packages: audioread, resampy, librosa\n",
      "Successfully installed audioread-2.1.5 librosa-0.5.1 resampy-0.2.0\n"
     ]
    }
   ],
   "source": [
    "!pip install  librosa\n",
    "\n",
    "# !하면 shell 명령어"
   ]
  },
  {
   "cell_type": "code",
   "execution_count": 2,
   "metadata": {},
   "outputs": [
    {
     "name": "stderr",
     "output_type": "stream",
     "text": [
      "/home/nbuser/anaconda3_501/lib/python3.6/importlib/_bootstrap.py:205: RuntimeWarning: compiletime version 3.5 of module 'tensorflow.python.framework.fast_tensor_util' does not match runtime version 3.6\n",
      "  return f(*args, **kwds)\n"
     ]
    }
   ],
   "source": [
    "import glob\n",
    "import os\n",
    "import librosa\n",
    "import numpy as np\n",
    "import matplotlib.pyplot as plt\n",
    "import tensorflow as tf\n",
    "import sys\n",
    "\n",
    "#librosa 사운드 받아드리는 패키지 \n",
    "#from matplotlib.pyplot import specgram\n",
    "#from sklearn.metrics import precision_recall_fscore_support\n",
    "\n",
    "\n",
    "plt.style.use('ggplot')\n",
    "\n",
    "plt.rcParams['font.family'] = 'serif'\n",
    "plt.rcParams['font.serif'] = 'Ubuntu'\n",
    "plt.rcParams['font.monospace'] = 'Ubuntu Mono'\n",
    "plt.rcParams['font.size'] = 12\n",
    "plt.rcParams['axes.labelsize'] = 11\n",
    "plt.rcParams['axes.labelweight'] = 'bold'\n",
    "plt.rcParams['axes.titlesize'] = 14\n",
    "plt.rcParams['xtick.labelsize'] = 10\n",
    "plt.rcParams['ytick.labelsize'] = 10\n",
    "plt.rcParams['legend.fontsize'] = 11\n",
    "plt.rcParams['figure.titlesize'] = 13\n",
    "\n",
    "def extract_feature(file_name):\n",
    "    X, sample_rate = librosa.load(file_name)\n",
    "    stft = np.abs(librosa.stft(X))\n",
    "    mfccs = np.mean(librosa.feature.mfcc(y=X, sr=sample_rate, n_mfcc=40).T,axis=0)\n",
    "    chroma = np.mean(librosa.feature.chroma_stft(S=stft, sr=sample_rate).T,axis=0)\n",
    "    mel = np.mean(librosa.feature.melspectrogram(X, sr=sample_rate).T,axis=0)\n",
    "    contrast = np.mean(librosa.feature.spectral_contrast(S=stft, sr=sample_rate).T,axis=0)\n",
    "    tonnetz = np.mean(librosa.feature.tonnetz(y=librosa.effects.harmonic(X), sr=sample_rate).T,axis=0)\n",
    "    return mfccs,chroma,mel,contrast,tonnetz\n",
    "\n",
    "def parse_audio_files(parent_dir,sub_dirs,file_ext='*.wav'):\n",
    "    features, labels = np.empty((0,193)), np.empty(0)\n",
    "    files = []\n",
    "    print('==DIR', parent_dir)\n",
    "    for label, sub_dir in enumerate(sub_dirs):\n",
    "        print('====DIR', label, sub_dir)\n",
    "        for fn in glob.glob(os.path.join(parent_dir, sub_dir, file_ext)):\n",
    "            basename = os.path.basename(fn)\n",
    "            try:\n",
    "                mfccs, chroma, mel, contrast,tonnetz = extract_feature(fn)\n",
    "                ext_features = np.hstack([mfccs,chroma,mel,contrast,tonnetz])\n",
    "                features = np.vstack([features,ext_features])\n",
    "                label = basename.split('-')[1]\n",
    "                labels = np.append(labels, label)\n",
    "                files.append(basename)\n",
    "                print(fn, label, ext_features.shape)\n",
    "            except:\n",
    "                print(fn, 'SKIP')\n",
    "            \n",
    "            \n",
    "    return files, np.array(features), np.array(labels, dtype = np.int)\n",
    "\n",
    "def one_hot_encode(labels):\n",
    "    n_labels = len(labels)\n",
    "    n_unique_labels = 10 # len(np.unique(labels))\n",
    "    one_hot = np.zeros((n_labels,n_unique_labels))\n",
    "    one_hot[np.arange(n_labels), labels] = 1\n",
    "    return one_hot"
   ]
  },
  {
   "cell_type": "code",
   "execution_count": 3,
   "metadata": {},
   "outputs": [
    {
     "name": "stdout",
     "output_type": "stream",
     "text": [
      "==DIR audio\n",
      "====DIR 0 data\n",
      "audio/data/138031-2-0-2.wav 2 (193,)\n",
      "audio/data/87275-1-5-0.wav 1 (193,)\n",
      "audio/data/19026-1-0-0.wav 1 (193,)\n",
      "audio/data/87275-1-3-0.wav SKIP\n"
     ]
    },
    {
     "name": "stderr",
     "output_type": "stream",
     "text": [
      "/home/nbuser/anaconda3_501/lib/python3.6/site-packages/librosa/util/utils.py:1632: RuntimeWarning: invalid value encountered in less\n",
      "  if np.any(X < 0) or np.any(X_ref < 0):\n",
      "/home/nbuser/anaconda3_501/lib/python3.6/site-packages/librosa/util/utils.py:1645: RuntimeWarning: invalid value encountered in less\n",
      "  bad_idx = (Z < np.finfo(dtype).tiny)\n"
     ]
    },
    {
     "name": "stdout",
     "output_type": "stream",
     "text": [
      "audio/data/72261-3-0-6.wav 3 (193,)\n",
      "audio/data/15564-2-0-1.wav 2 (193,)\n",
      "audio/data/31840-3-0-0.wav 3 (193,)\n",
      "audio/data/102106-3-0-0.wav 3 (193,)\n",
      "audio/data/105415-2-0-4.wav 2 (193,)\n",
      "audio/data/24074-1-0-2.wav 1 (193,)\n",
      "audio/data/105415-2-0-6.wav 2 (193,)\n",
      "audio/data/24074-1-0-9.wav 1 (193,)\n",
      "audio/data/24074-1-0-6.wav 1 (193,)\n"
     ]
    },
    {
     "name": "stderr",
     "output_type": "stream",
     "text": [
      "/home/nbuser/anaconda3_501/lib/python3.6/site-packages/librosa/core/pitch.py:145: UserWarning: Trying to estimate tuning from empty frequency set.\n",
      "  warnings.warn('Trying to estimate tuning from empty frequency set.')\n"
     ]
    },
    {
     "name": "stdout",
     "output_type": "stream",
     "text": [
      "audio/data/9031-3-1-0.wav 3 (193,)\n",
      "audio/data/9031-3-2-0.wav 3 (193,)\n",
      "audio/data/105415-2-0-1.wav 2 (193,)\n",
      "audio/data/72579-3-0-3.wav 3 (193,)\n",
      "audio/data/87275-1-1-0.wav SKIP\n",
      "audio/data/15564-2-0-2.wav 2 (193,)\n",
      "audio/data/101415-3-0-3.wav 3 (193,)\n",
      "audio/data/87275-1-4-0.wav 1 (193,)\n",
      "audio/data/94868-1-1-0.wav 1 (193,)\n",
      "audio/data/24074-1-0-0.wav 1 (193,)\n",
      "audio/data/24074-1-0-10.wav 1 (193,)\n",
      "audio/data/54858-3-0-0.wav 3 (193,)\n",
      "audio/data/31840-3-1-0.wav 3 (193,)\n",
      "audio/data/24074-1-0-3.wav 1 (193,)\n",
      "audio/data/72579-3-0-0.wav 3 (193,)\n",
      "audio/data/94868-1-2-0.wav 1 (193,)\n",
      "audio/data/72579-3-0-4.wav 3 (193,)\n",
      "audio/data/51022-3-7-0.wav 3 (193,)\n"
     ]
    },
    {
     "name": "stderr",
     "output_type": "stream",
     "text": [
      "/home/nbuser/anaconda3_501/lib/python3.6/site-packages/librosa/core/pitch.py:145: UserWarning: Trying to estimate tuning from empty frequency set.\n",
      "  warnings.warn('Trying to estimate tuning from empty frequency set.')\n"
     ]
    },
    {
     "name": "stdout",
     "output_type": "stream",
     "text": [
      "audio/data/9031-3-3-0.wav 3 (193,)\n",
      "audio/data/43786-3-0-0.wav 3 (193,)\n",
      "audio/data/7383-3-1-0.wav 3 (193,)\n",
      "audio/data/138031-2-0-7.wav 2 (193,)\n",
      "audio/data/97317-2-0-5.wav 2 (193,)\n",
      "audio/data/87275-1-2-0.wav 1 (193,)\n",
      "audio/data/65749-3-1-9.wav 3 (193,)\n",
      "audio/data/24074-1-0-1.wav 1 (193,)\n",
      "audio/data/24074-1-0-7.wav 1 (193,)\n",
      "audio/data/24074-1-0-5.wav 1 (193,)\n",
      "audio/data/7383-3-0-0.wav 3 (193,)\n",
      "audio/data/72579-3-0-2.wav 3 (193,)\n",
      "audio/data/101415-3-0-2.wav 3 (193,)\n",
      "audio/data/24074-1-0-4.wav 1 (193,)\n",
      "audio/data/94868-1-0-0.wav 1 (193,)\n",
      "audio/data/108362-2-0-9.wav 2 (193,)\n",
      "audio/data/31323-3-0-1.wav 3 (193,)\n",
      "audio/data/43786-3-1-0.wav 3 (193,)\n",
      "audio/data/87275-1-0-0.wav 1 (193,)\n",
      "audio/data/31323-3-0-2.wav 3 (193,)\n",
      "audio/data/54858-3-2-0.wav 3 (193,)\n",
      "audio/data/7383-3-0-1.wav 3 (193,)\n",
      "audio/data/105415-2-0-8.wav 2 (193,)\n",
      "audio/data/15564-2-0-0.wav 2 (193,)\n",
      "audio/data/108362-2-0-7.wav 2 (193,)\n"
     ]
    },
    {
     "name": "stderr",
     "output_type": "stream",
     "text": [
      "/home/nbuser/anaconda3_501/lib/python3.6/site-packages/librosa/core/pitch.py:145: UserWarning: Trying to estimate tuning from empty frequency set.\n",
      "  warnings.warn('Trying to estimate tuning from empty frequency set.')\n"
     ]
    },
    {
     "name": "stdout",
     "output_type": "stream",
     "text": [
      "audio/data/9031-3-4-0.wav 3 (193,)\n",
      "audio/data/24074-1-0-8.wav 1 (193,)\n",
      "audio/data/101415-3-0-8.wav 3 (193,)\n",
      "audio/data/54858-3-1-2.wav 3 (193,)\n",
      "Audio Data Loading Done\n",
      "feature. shape (58, 193)\n",
      "label. shape (58,)\n",
      "138031-2-0-2.wav [ 0.  0.  1.  0.  0.  0.  0.  0.  0.  0.]\n",
      "87275-1-5-0.wav [ 0.  1.  0.  0.  0.  0.  0.  0.  0.  0.]\n",
      "19026-1-0-0.wav [ 0.  1.  0.  0.  0.  0.  0.  0.  0.  0.]\n",
      "72261-3-0-6.wav [ 0.  0.  0.  1.  0.  0.  0.  0.  0.  0.]\n",
      "15564-2-0-1.wav [ 0.  0.  1.  0.  0.  0.  0.  0.  0.  0.]\n",
      "31840-3-0-0.wav [ 0.  0.  0.  1.  0.  0.  0.  0.  0.  0.]\n",
      "102106-3-0-0.wav [ 0.  0.  0.  1.  0.  0.  0.  0.  0.  0.]\n",
      "105415-2-0-4.wav [ 0.  0.  1.  0.  0.  0.  0.  0.  0.  0.]\n",
      "24074-1-0-2.wav [ 0.  1.  0.  0.  0.  0.  0.  0.  0.  0.]\n",
      "105415-2-0-6.wav [ 0.  0.  1.  0.  0.  0.  0.  0.  0.  0.]\n",
      "24074-1-0-9.wav [ 0.  1.  0.  0.  0.  0.  0.  0.  0.  0.]\n",
      "24074-1-0-6.wav [ 0.  1.  0.  0.  0.  0.  0.  0.  0.  0.]\n",
      "9031-3-1-0.wav [ 0.  0.  0.  1.  0.  0.  0.  0.  0.  0.]\n",
      "9031-3-2-0.wav [ 0.  0.  0.  1.  0.  0.  0.  0.  0.  0.]\n",
      "105415-2-0-1.wav [ 0.  0.  1.  0.  0.  0.  0.  0.  0.  0.]\n",
      "72579-3-0-3.wav [ 0.  0.  0.  1.  0.  0.  0.  0.  0.  0.]\n",
      "15564-2-0-2.wav [ 0.  0.  1.  0.  0.  0.  0.  0.  0.  0.]\n",
      "101415-3-0-3.wav [ 0.  0.  0.  1.  0.  0.  0.  0.  0.  0.]\n",
      "87275-1-4-0.wav [ 0.  1.  0.  0.  0.  0.  0.  0.  0.  0.]\n",
      "94868-1-1-0.wav [ 0.  1.  0.  0.  0.  0.  0.  0.  0.  0.]\n",
      "24074-1-0-0.wav [ 0.  1.  0.  0.  0.  0.  0.  0.  0.  0.]\n",
      "24074-1-0-10.wav [ 0.  1.  0.  0.  0.  0.  0.  0.  0.  0.]\n",
      "54858-3-0-0.wav [ 0.  0.  0.  1.  0.  0.  0.  0.  0.  0.]\n",
      "31840-3-1-0.wav [ 0.  0.  0.  1.  0.  0.  0.  0.  0.  0.]\n",
      "24074-1-0-3.wav [ 0.  1.  0.  0.  0.  0.  0.  0.  0.  0.]\n",
      "72579-3-0-0.wav [ 0.  0.  0.  1.  0.  0.  0.  0.  0.  0.]\n",
      "94868-1-2-0.wav [ 0.  1.  0.  0.  0.  0.  0.  0.  0.  0.]\n",
      "72579-3-0-4.wav [ 0.  0.  0.  1.  0.  0.  0.  0.  0.  0.]\n",
      "51022-3-7-0.wav [ 0.  0.  0.  1.  0.  0.  0.  0.  0.  0.]\n",
      "9031-3-3-0.wav [ 0.  0.  0.  1.  0.  0.  0.  0.  0.  0.]\n",
      "43786-3-0-0.wav [ 0.  0.  0.  1.  0.  0.  0.  0.  0.  0.]\n",
      "7383-3-1-0.wav [ 0.  0.  0.  1.  0.  0.  0.  0.  0.  0.]\n",
      "138031-2-0-7.wav [ 0.  0.  1.  0.  0.  0.  0.  0.  0.  0.]\n",
      "97317-2-0-5.wav [ 0.  0.  1.  0.  0.  0.  0.  0.  0.  0.]\n",
      "87275-1-2-0.wav [ 0.  1.  0.  0.  0.  0.  0.  0.  0.  0.]\n",
      "65749-3-1-9.wav [ 0.  0.  0.  1.  0.  0.  0.  0.  0.  0.]\n",
      "24074-1-0-1.wav [ 0.  1.  0.  0.  0.  0.  0.  0.  0.  0.]\n",
      "24074-1-0-7.wav [ 0.  1.  0.  0.  0.  0.  0.  0.  0.  0.]\n",
      "24074-1-0-5.wav [ 0.  1.  0.  0.  0.  0.  0.  0.  0.  0.]\n",
      "7383-3-0-0.wav [ 0.  0.  0.  1.  0.  0.  0.  0.  0.  0.]\n",
      "72579-3-0-2.wav [ 0.  0.  0.  1.  0.  0.  0.  0.  0.  0.]\n",
      "101415-3-0-2.wav [ 0.  0.  0.  1.  0.  0.  0.  0.  0.  0.]\n",
      "24074-1-0-4.wav [ 0.  1.  0.  0.  0.  0.  0.  0.  0.  0.]\n",
      "94868-1-0-0.wav [ 0.  1.  0.  0.  0.  0.  0.  0.  0.  0.]\n",
      "108362-2-0-9.wav [ 0.  0.  1.  0.  0.  0.  0.  0.  0.  0.]\n",
      "31323-3-0-1.wav [ 0.  0.  0.  1.  0.  0.  0.  0.  0.  0.]\n",
      "43786-3-1-0.wav [ 0.  0.  0.  1.  0.  0.  0.  0.  0.  0.]\n",
      "87275-1-0-0.wav [ 0.  1.  0.  0.  0.  0.  0.  0.  0.  0.]\n",
      "31323-3-0-2.wav [ 0.  0.  0.  1.  0.  0.  0.  0.  0.  0.]\n",
      "54858-3-2-0.wav [ 0.  0.  0.  1.  0.  0.  0.  0.  0.  0.]\n",
      "7383-3-0-1.wav [ 0.  0.  0.  1.  0.  0.  0.  0.  0.  0.]\n",
      "105415-2-0-8.wav [ 0.  0.  1.  0.  0.  0.  0.  0.  0.  0.]\n",
      "15564-2-0-0.wav [ 0.  0.  1.  0.  0.  0.  0.  0.  0.  0.]\n",
      "108362-2-0-7.wav [ 0.  0.  1.  0.  0.  0.  0.  0.  0.  0.]\n",
      "9031-3-4-0.wav [ 0.  0.  0.  1.  0.  0.  0.  0.  0.  0.]\n",
      "24074-1-0-8.wav [ 0.  1.  0.  0.  0.  0.  0.  0.  0.  0.]\n",
      "101415-3-0-8.wav [ 0.  0.  0.  1.  0.  0.  0.  0.  0.  0.]\n",
      "54858-3-1-2.wav [ 0.  0.  0.  1.  0.  0.  0.  0.  0.  0.]\n",
      "DIM 193\n"
     ]
    }
   ],
   "source": [
    "parent_dir = 'audio'\n",
    "\n",
    "sub_dirs = ['data']\n",
    "files, features, labels = parse_audio_files(parent_dir,sub_dirs)\n",
    "print('Audio Data Loading Done')\n",
    "print(\"feature. shape\",features.shape)\n",
    "print(\"label. shape\",labels.shape)\n",
    "\n",
    "\n",
    "labels = one_hot_encode(labels)\n",
    "for f, l in zip(files, labels):\n",
    "    print(f, l)\n",
    "\n",
    "\n",
    "train_test_split = np.random.rand(len(features)) < 0.70\n",
    "train_x = features[train_test_split]\n",
    "train_y = labels[train_test_split]\n",
    "test_x = features[~train_test_split]\n",
    "test_y = labels[~train_test_split]\n",
    "\n",
    "training_epochs = 5000\n",
    "n_dim = features.shape[1]\n",
    "print('DIM', n_dim)\n",
    "n_classes = 10\n",
    "#n_hidden_units_one = 280 \n",
    "#n_hidden_units_two = 300\n",
    "sd = 1 / np.sqrt(n_dim)\n",
    "learning_rate = 0.01\n",
    "\n",
    "\n",
    "n_hidden_units_one = 300\n",
    "n_hidden_units_two = 200\n",
    "n_hidden_units_three = 100\n",
    "\n",
    "## None는 학습할 데이터의 숫자가 정해지지 않아서 \n",
    "X = tf.placeholder(tf.float32,[None,n_dim])\n",
    "Y = tf.placeholder(tf.float32,[None,n_classes])\n",
    "\n",
    "W_1 = tf.Variable(tf.random_normal([n_dim, n_hidden_units_one], mean=0, stddev=sd), name=\"w1\")\n",
    "b_1 = tf.Variable(tf.random_normal([n_hidden_units_one], mean=0, stddev=sd), name=\"b1\")\n",
    "h_1 = tf.nn.sigmoid(tf.matmul(X, W_1) + b_1)\n",
    "\n",
    "W_2 = tf.Variable(tf.random_normal([n_hidden_units_one, n_hidden_units_two], mean=0, stddev=sd), name=\"w2\")\n",
    "b_2 = tf.Variable(tf.random_normal([n_hidden_units_two], mean=0, stddev=sd), name=\"b2\")\n",
    "h_2 = tf.nn.tanh(tf.matmul(h_1, W_2) + b_2)\n",
    "\n",
    "W_3 = tf.Variable(tf.random_normal([n_hidden_units_two, n_hidden_units_three], mean=0, stddev=sd), name=\"w3\")\n",
    "b_3 = tf.Variable(tf.random_normal([n_hidden_units_three], mean=0, stddev=sd), name=\"b3\")\n",
    "h_3 = tf.nn.sigmoid(tf.matmul(h_2, W_3) + b_3)\n",
    "\n",
    "W = tf.Variable(tf.random_normal([n_hidden_units_three, n_classes], mean=0, stddev=sd), name=\"w\")\n",
    "b = tf.Variable(tf.random_normal([n_classes], mean = 0, stddev=sd), name=\"b\")\n",
    "y_ = tf.nn.softmax(tf.matmul(h_3, W) + b)"
   ]
  },
  {
   "cell_type": "code",
   "execution_count": 5,
   "metadata": {
    "collapsed": true
   },
   "outputs": [],
   "source": [
    "init = tf.global_variables_initializer()\n",
    "\n",
    "cost_function = tf.reduce_mean(-tf.reduce_sum(Y * tf.log(y_), reduction_indices=[1])) \n",
    "optimizer = tf.train.GradientDescentOptimizer(learning_rate).minimize(cost_function)\n",
    "\n",
    "\n",
    "correct_prediction = tf.equal(tf.argmax(y_,1), tf.argmax(Y,1))\n",
    "accuracy = tf.reduce_mean(tf.cast(correct_prediction, tf.float32))\n",
    "\n",
    "cost_history = np.empty(shape=[1],dtype=float)\n",
    "y_true, y_pred = None, None"
   ]
  },
  {
   "cell_type": "code",
   "execution_count": 9,
   "metadata": {},
   "outputs": [
    {
     "name": "stdout",
     "output_type": "stream",
     "text": [
      "2.31917\n",
      "0.944443\n",
      "0.734608\n",
      "0.532519\n",
      "0.37978\n",
      "0.277412\n",
      "0.20721\n",
      "0.160121\n",
      "0.127604\n",
      "0.104698\n",
      "0.0873547\n",
      "0.0737614\n",
      "0.0628431\n",
      "0.053781\n",
      "0.0464999\n",
      "0.0405112\n",
      "0.0355488\n",
      "0.0314079\n",
      "0.0279153\n",
      "0.024756\n",
      "0.02209\n",
      "0.0198194\n",
      "0.0179908\n",
      "0.0164217\n",
      "0.0151087\n",
      "0.0139692\n",
      "0.0129681\n",
      "0.0120681\n",
      "0.0112645\n",
      "0.0105639\n",
      "0.0099359\n",
      "0.00937019\n",
      "0.00885697\n",
      "0.00831449\n",
      "0.00789293\n",
      "0.00751214\n",
      "0.00716161\n",
      "0.00683672\n",
      "0.00653293\n",
      "0.00624767\n",
      "0.00598241\n",
      "0.00573899\n",
      "0.00551594\n",
      "0.00531027\n",
      "0.00511956\n",
      "0.0049418\n",
      "0.00477551\n",
      "0.00461949\n",
      "0.00447277\n",
      "0.00433452\n",
      "y_pred,,, (17,)\n",
      "y_true,,, (17,)\n",
      "y_pred>> [3 1 3 3 2 2 1 1 3 1 3 1 3 2 2 2 3]\n",
      "y_true>> [2 1 3 3 2 1 1 1 3 1 3 1 3 2 2 2 3]\n",
      "Model saved in file: ./sound_trained.ckpt\n"
     ]
    }
   ],
   "source": [
    "with tf.Session() as sess:\n",
    "    sess.run(init)\n",
    "\n",
    "    for epoch in range(training_epochs):            \n",
    "        _,cost = sess.run([optimizer,cost_function],feed_dict={X:train_x,Y:train_y})\n",
    "        if epoch % 100 == 0:\n",
    "            print(cost)\n",
    "        cost_history = np.append(cost_history,cost)\n",
    "    \n",
    "    y_pred = sess.run(tf.argmax(y_,1),feed_dict={X: test_x})\n",
    "    y_true = sess.run(tf.argmax(test_y,1))\n",
    "    print(\"y_pred,,,\",y_pred.shape)\n",
    "    print(\"y_true,,,\",y_true.shape)\n",
    "    print(\"y_pred>>\",y_pred)\n",
    "    print(\"y_true>>\", y_true)\n",
    "    saver = tf.train.Saver()\n",
    "    save_path = saver.save(sess, \"./sound_trained.ckpt\")\n",
    "    print(\"Model saved in file: %s\" % save_path)\n",
    "\n",
    "    "
   ]
  },
  {
   "cell_type": "code",
   "execution_count": 9,
   "metadata": {},
   "outputs": [
    {
     "name": "stderr",
     "output_type": "stream",
     "text": [
      "/home/nbuser/anaconda3_501/lib/python3.6/site-packages/matplotlib/font_manager.py:1316: UserWarning: findfont: Font family ['serif'] not found. Falling back to DejaVu Sans\n",
      "  (prop.get_family(), self.defaultFamily[fontext]))\n"
     ]
    },
    {
     "data": {
      "image/png": "[encoded data removed]",
      "text/plain": [
       "<matplotlib.figure.Figure at 0x7f85c41c66d8>"
      ]
     },
     "metadata": {},
     "output_type": "display_data"
    }
   ],
   "source": [
    "fig = plt.figure(figsize=(10,8))\n",
    "plt.plot(cost_history)\n",
    "plt.ylabel(\"Cost\")\n",
    "plt.xlabel(\"Iterations\")\n",
    "plt.axis([0,training_epochs,0,np.max(cost_history)])\n",
    "plt.show()\n",
    "\n",
    "#p,r,f,s = precision_recall_fscore_support(y_true, y_pred, average='micro')\n",
    "#print(\"F-Score:\", round(f,3))"
   ]
  },
  {
   "cell_type": "code",
   "execution_count": null,
   "metadata": {
    "collapsed": true
   },
   "outputs": [],
   "source": []
  }
 ],
 "metadata": {
  "kernelspec": {
   "display_name": "Python 3.6",
   "language": "python",
   "name": "python36"
  },
  "language_info": {
   "codemirror_mode": {
    "name": "ipython",
    "version": 3
   },
   "file_extension": ".py",
   "mimetype": "text/x-python",
   "name": "python",
   "nbconvert_exporter": "python",
   "pygments_lexer": "ipython3",
   "version": "3.6.2"
  }
 },
 "nbformat": 4,
 "nbformat_minor": 2
}
