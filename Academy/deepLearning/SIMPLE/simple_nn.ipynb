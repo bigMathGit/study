{
 "cells": [
  {
   "cell_type": "code",
   "execution_count": 6,
   "metadata": {
    "collapsed": true
   },
   "outputs": [],
   "source": [
    "import tensorflow as tf\n",
    "import numpy as np\n",
    "import random\n",
    "import matplotlib.pyplot as plt"
   ]
  },
  {
   "cell_type": "code",
   "execution_count": 7,
   "metadata": {
    "collapsed": true
   },
   "outputs": [],
   "source": [
    "# y = w * x + b 함수\n",
    "def myfunc(_x):\n",
    "  w = 1.3 # 기울기\n",
    "  b = 2.6 # y 절편.  점(0, 2.6)\n",
    "  # x 절편은 점(-2, 0)이 됨.\n",
    "  _y = w * _x + b\n",
    "  noise = random.random() * 0.01    # Noise\n",
    "  return _y + noise"
   ]
  },
  {
   "cell_type": "code",
   "execution_count": 8,
   "metadata": {},
   "outputs": [
    {
     "name": "stdout",
     "output_type": "stream",
     "text": [
      "xlist : [0.01061207144537557, 0.0364075796601554, 0.09830239694880893, 0.1023133567728074, 0.10930384521262049, 0.1227275384852522, 0.14257606125786304, 0.15351732886692115, 0.19145026057048264, 0.19822664847107707]\n",
      "ylist : [2.6172739710649267, 2.6486558306846453, 2.7360563698813407, 2.7386489283226507, 2.7440263591171696, 2.760137888142488, 2.790963979375193, 2.8007710494577185, 2.85419697412984, 2.8626396010068986]\n",
      "type(xlist) : <class 'list'>\n",
      "type(ylist) : <class 'list'>\n"
     ]
    }
   ],
   "source": [
    "# random.random() -- 0.0 ~ 1.0\n",
    "NUM_DATA = 100          # 데이터 갯수\n",
    "XVALUE = 5              # X값의 범위 (0.0 ~ 5.0)\n",
    "# type: python list\n",
    "xlist = [random.random() * XVALUE for i in range(NUM_DATA)]\n",
    "xlist.sort()            # sorting\n",
    "ylist = [myfunc(x) for x in xlist]\n",
    "print('xlist :',xlist[:10])\n",
    "print('ylist :',ylist[:10])\n",
    "print('type(xlist) :', type(xlist))\n",
    "print('type(ylist) :', type(ylist))"
   ]
  },
  {
   "cell_type": "code",
   "execution_count": 9,
   "metadata": {},
   "outputs": [
    {
     "data": {
      "image/png": "[encoded data removed]",
      "text/plain": [
       "<matplotlib.figure.Figure at 0x7fd40fcaad30>"
      ]
     },
     "metadata": {},
     "output_type": "display_data"
    }
   ],
   "source": [
    "# actual data 산점도\n",
    "fig, ax = plt.subplots()\n",
    "ax.plot(xlist, ylist, label='actual')\n",
    "plt.show()"
   ]
  },
  {
   "cell_type": "code",
   "execution_count": 10,
   "metadata": {},
   "outputs": [
    {
     "name": "stdout",
     "output_type": "stream",
     "text": [
      "xlist.shape : (100,)\n",
      "ylist.shape : (100,)\n"
     ]
    }
   ],
   "source": [
    "# type 변환 python list -> numpy ndarray\n",
    "# type: numpy ndarray\n",
    "xlist = np.array(xlist)\n",
    "ylist = np.array(ylist)\n",
    "print('xlist.shape :',xlist.shape)  # shape ==  (10,)\n",
    "print('ylist.shape :',ylist.shape)  # shape ==  (10,)\n",
    "## shape이 해깔리는 과정인데 nxm 행렬만들어 주는것일듯 "
   ]
  },
  {
   "cell_type": "code",
   "execution_count": 11,
   "metadata": {},
   "outputs": [
    {
     "name": "stdout",
     "output_type": "stream",
     "text": [
      "xlist.shape : (100, 1)\n",
      "ylist.shape : (100, 1)\n"
     ]
    }
   ],
   "source": [
    "# tensor 에 맞추기 위해 reshape\n",
    "xlist = xlist.reshape((NUM_DATA, 1))  # shape ==  (10,1)\n",
    "ylist = ylist.reshape((NUM_DATA, 1))  # shape ==  (10,1)\n",
    "print('xlist.shape :', xlist.shape)\n",
    "print('ylist.shape :', ylist.shape)"
   ]
  },
  {
   "cell_type": "code",
   "execution_count": 12,
   "metadata": {
    "collapsed": true
   },
   "outputs": [],
   "source": [
    "# placeholder tensor 안에 데이터를 받는 공간 (포멧, 행렬, 이름)\n",
    "X = tf.placeholder(tf.float32, [None, 1], name='inputPlace')\n",
    "y = tf.placeholder(tf.float32, [None, 1])\n",
    "W = tf.Variable(tf.random_normal([1,1], -1, 1), name='weight')\n",
    "b = tf.Variable(tf.random_normal([1], -1, 1), name='bias')\n",
    "O = tf.matmul(X, W) + b   # [1,1]행렬 x [1,1]행렬 + [1]"
   ]
  },
  {
   "cell_type": "code",
   "execution_count": 13,
   "metadata": {},
   "outputs": [
    {
     "name": "stdout",
     "output_type": "stream",
     "text": [
      "X :  inputPlace:0\n"
     ]
    }
   ],
   "source": [
    "# 손실 함수 \n",
    "## array를받아서 값을 리턴하면 reduce가 보통 붙는다.\n",
    "cost_function = tf.reduce_mean(tf.square(O - y))\n",
    "# 옵티마이저(GradientDesecent)\n",
    "optimizer = tf.train.GradientDescentOptimizer(learning_rate=0.1)\n",
    "training = optimizer.minimize(cost_function)\n",
    "\n",
    "# 옵티마이저(Adam)\n",
    "optimizer2 = tf.train.AdamOptimizer(learning_rate=0.1)\n",
    "training2 = optimizer.minimize(cost_function)\n",
    "\n",
    "print('X : ', X.name)"
   ]
  },
  {
   "cell_type": "code",
   "execution_count": 16,
   "metadata": {
    "collapsed": true
   },
   "outputs": [],
   "source": [
    "# loss list\n",
    "see_loss_summary = []           # Record loss values for plot\n",
    "see_loss_summary2 = []          # Record loss values for plot"
   ]
  },
  {
   "cell_type": "code",
   "execution_count": 22,
   "metadata": {
    "scrolled": true
   },
   "outputs": [
    {
     "name": "stdout",
     "output_type": "stream",
     "text": [
      "LOSS [42.307899] W [[ 4.35510254]] bias [-0.27556622] Tensor(\"strided_slice_35:0\", shape=(1,), dtype=float32)\n",
      "LOSS [1.3300695] W [[ 2.01403117]] bias [ 0.71414304] Tensor(\"strided_slice_36:0\", shape=(1,), dtype=float32)\n",
      "LOSS [0.35821283] W [[ 1.63166595]] bias [ 1.53836203] Tensor(\"strided_slice_37:0\", shape=(1,), dtype=float32)\n",
      "LOSS [0.10961872] W [[ 1.47958982]] bias [ 2.0127635] Tensor(\"strided_slice_38:0\", shape=(1,), dtype=float32)\n",
      "LOSS [0.033612136] W [[ 1.39927638]] bias [ 2.27661943] Tensor(\"strided_slice_39:0\", shape=(1,), dtype=float32)\n",
      "LOSS [0.010310099] W [[ 1.35506046]] bias [ 2.42279482] Tensor(\"strided_slice_40:0\", shape=(1,), dtype=float32)\n",
      "LOSS [0.0031658898] W [[ 1.33059442]] bias [ 2.50373816] Tensor(\"strided_slice_41:0\", shape=(1,), dtype=float32)\n",
      "LOSS [0.0009755221] W [[ 1.31704855]] bias [ 2.54855776] Tensor(\"strided_slice_42:0\", shape=(1,), dtype=float32)\n",
      "LOSS [0.0003039726] W [[ 1.30954802]] bias [ 2.57337475] Tensor(\"strided_slice_43:0\", shape=(1,), dtype=float32)\n",
      "LOSS [9.8086748e-05] W [[ 1.30539489]] bias [ 2.58711576] Tensor(\"strided_slice_44:0\", shape=(1,), dtype=float32)\n",
      "LOSS [3.4964796e-05] W [[ 1.30309534]] bias [ 2.59472418] Tensor(\"strided_slice_45:0\", shape=(1,), dtype=float32)\n",
      "LOSS [1.5611409e-05] W [[ 1.30182219]] bias [ 2.59893703] Tensor(\"strided_slice_46:0\", shape=(1,), dtype=float32)\n",
      "LOSS [9.6773811e-06] W [[ 1.30111706]] bias [ 2.60126972] Tensor(\"strided_slice_47:0\", shape=(1,), dtype=float32)\n",
      "W shape (1, 1)\n",
      "B shape (1,)\n",
      "O shape (100, 1)\n"
     ]
    }
   ],
   "source": [
    "#1. constant = 상수\n",
    "#2. placeholder = input값\n",
    "#3. Variable = 변수\n",
    "#4. operator 함수\n",
    "\n",
    "# Session 시작\n",
    "sess = tf.Session()\n",
    "sess.run(tf.global_variables_initializer())\n",
    "for i in range(1000):\n",
    "  res_training, cost_val  = sess.run([training, cost_function],\n",
    "                                     feed_dict={X: xlist, y:ylist})\n",
    "  if cost_val < 0.00001:\n",
    "    break\n",
    "    \n",
    "\n",
    "  if i % 10 == 0:\n",
    "    see_loss = sess.run([cost_function],\n",
    "                        feed_dict={X: xlist, y: ylist})\n",
    "    res_o, res_w, res_b = sess.run([O, W, b], feed_dict={X: xlist, y: ylist})\n",
    "\n",
    "    print('LOSS', see_loss, end=' ')\n",
    "    print('W', res_w, 'bias', res_b)\n",
    "\n",
    "    see_loss_summary.append(see_loss)\n",
    "\n",
    "print('W shape', res_w.shape)\n",
    "print('B shape', res_b.shape)\n",
    "print('O shape', res_o.shape)"
   ]
  },
  {
   "cell_type": "code",
   "execution_count": 11,
   "metadata": {
    "scrolled": true
   },
   "outputs": [
    {
     "name": "stdout",
     "output_type": "stream",
     "text": [
      "LOSS2 [78.199005] W [[ 4.52454042]] bias [ 1.53936839]\n",
      "LOSS2 [52.598019] W [[ 3.84053087]] bias [ 2.10548544]\n",
      "LOSS2 [35.452286] W [[ 3.32026815]] bias [ 2.42741823]\n",
      "LOSS2 [23.92421] W [[ 2.91859341]] bias [ 2.60328531]\n",
      "LOSS2 [16.155691] W [[ 2.60448527]] bias [ 2.69291258]\n",
      "LOSS2 [10.913909] W [[ 2.35622406]] bias [ 2.73258543]\n",
      "LOSS2 [7.3744664] W [[ 2.15829682]] bias [ 2.74415159]\n",
      "LOSS2 [4.9834847] W [[ 1.99939573]] bias [ 2.74063206]\n",
      "LOSS2 [3.3679593] W [[ 1.87112427]] bias [ 2.72967696]\n",
      "LOSS2 [2.2762458] W [[ 1.76713371]] bias [ 2.71567988]\n",
      "LOSS2 [1.5384413] W [[ 1.6825459]] bias [ 2.70108485]\n",
      "LOSS2 [1.0397969] W [[ 1.61356473]] bias [ 2.6871748]\n",
      "LOSS2 [0.70278025] W [[ 1.55720043]] bias [ 2.67455649]\n",
      "LOSS2 [0.4749997] W [[ 1.51107681]] bias [ 2.66345072]\n",
      "LOSS2 [0.32104692] W [[ 1.47329032]] bias [ 2.65386701]\n",
      "LOSS2 [0.2169944] W [[ 1.44230783]] bias [ 2.64570785]\n",
      "LOSS2 [0.14666638] W [[ 1.41688716]] bias [ 2.63882637]\n",
      "LOSS2 [0.099132031] W [[ 1.39601946]] bias [ 2.63306141]\n",
      "LOSS2 [0.067004353] W [[ 1.37888312]] bias [ 2.62825561]\n",
      "LOSS2 [0.045289963] W [[ 1.36480725]] bias [ 2.62426329]\n",
      "LOSS2 [0.030613506] W [[ 1.35324264]] bias [ 2.62095571]\n",
      "LOSS2 [0.020693678] W [[ 1.34373939]] bias [ 2.61822104]\n",
      "LOSS2 [0.013988845] W [[ 1.33592927]] bias [ 2.61596274]\n",
      "LOSS2 [0.0094572743] W [[ 1.32951021]] bias [ 2.61410046]\n",
      "LOSS2 [0.0063945032] W [[ 1.32423425]] bias [ 2.61256528]\n",
      "LOSS2 [0.0043244059] W [[ 1.31989741]] bias [ 2.61130071]\n",
      "LOSS2 [0.0029253] W [[ 1.31633234]] bias [ 2.61026025]\n",
      "LOSS2 [0.0019796954] W [[ 1.31340182]] bias [ 2.60940385]\n",
      "LOSS2 [0.0013405276] W [[ 1.31099272]] bias [ 2.60869861]\n",
      "LOSS2 [0.00090852886] W [[ 1.30901206]] bias [ 2.60811901]\n",
      "LOSS2 [0.00061657472] W [[ 1.30738389]] bias [ 2.60764241]\n",
      "LOSS2 [0.00041925657] W [[ 1.30604553]] bias [ 2.60725021]\n",
      "LOSS2 [0.00028587424] W [[ 1.30494511]] bias [ 2.60692763]\n",
      "LOSS2 [0.00019573518] W [[ 1.30404043]] bias [ 2.60666275]\n",
      "LOSS2 [0.00013481145] W [[ 1.3032968]] bias [ 2.6064446]\n",
      "LOSS2 [9.3631505e-05] W [[ 1.30268538]] bias [ 2.60626531]\n",
      "LOSS2 [6.5809712e-05] W [[ 1.30218291]] bias [ 2.60611796]\n",
      "LOSS2 [4.7003152e-05] W [[ 1.30176973]] bias [ 2.60599709]\n",
      "LOSS2 [3.42809e-05] W [[ 1.30142975]] bias [ 2.60589767]\n",
      "LOSS2 [2.5688587e-05] W [[ 1.30115044]] bias [ 2.60581589]\n",
      "LOSS2 [1.9882787e-05] W [[ 1.30092084]] bias [ 2.60574889]\n",
      "LOSS2 [1.59589e-05] W [[ 1.30073225]] bias [ 2.60569334]\n",
      "LOSS2 [1.3307598e-05] W [[ 1.30057716]] bias [ 2.60564804]\n",
      "LOSS2 [1.1509792e-05] W [[ 1.30044937]] bias [ 2.60561037]\n",
      "LOSS2 [1.0299325e-05] W [[ 1.30034471]] bias [ 2.60557938]\n"
     ]
    }
   ],
   "source": [
    "sess.run(tf.global_variables_initializer())\n",
    "for i in range(1000):\n",
    "  res_training2, cost_val2 = sess.run([training2, cost_function],\n",
    "                                    feed_dict={X: xlist, y: ylist})\n",
    "  if cost_val2 < 0.00001:\n",
    "    break\n",
    "\n",
    "  if i % 10 == 0:\n",
    "    see_loss2 = sess.run([cost_function],\n",
    "                        feed_dict={X: xlist, y: ylist})\n",
    "    res_o, res_w, res_b = sess.run([O, W, b], feed_dict={X: xlist, y: ylist})\n",
    "\n",
    "    print('LOSS2', see_loss2, end=' ')\n",
    "    print('W', res_w, 'bias', res_b)\n",
    "\n",
    "    see_loss_summary2.append(see_loss2)"
   ]
  },
  {
   "cell_type": "code",
   "execution_count": 12,
   "metadata": {},
   "outputs": [
    {
     "data": {
      "image/png": "[encoded data removed]",
      "text/plain": [
       "<matplotlib.figure.Figure at 0x7fcfbf7099e8>"
      ]
     },
     "metadata": {},
     "output_type": "display_data"
    }
   ],
   "source": [
    "# Plot the accuracy and cost summaries\n",
    "f, ax1 = plt.subplots(1, 1, sharex=True, figsize=(10,4))\n",
    "\n",
    "ax1.plot(see_loss_summary[0:],  label='GradientDescentOptimizer')    # GradientDescentOptimizer\n",
    "ax1.plot(see_loss_summary2[0:], label='AdamOptimizer')                 # green AdamOptimizer\n",
    "ax1.set_title('optimizer')\n",
    "\n",
    "plt.xlabel('Epochs')\n",
    "plt.ylabel('Losses')\n",
    "plt.legend()\n",
    "plt.show()"
   ]
  }
 ],
 "metadata": {
  "kernelspec": {
   "display_name": "Python 3",
   "language": "python",
   "name": "python3"
  },
  "language_info": {
   "codemirror_mode": {
    "name": "ipython",
    "version": 3
   },
   "file_extension": ".py",
   "mimetype": "text/x-python",
   "name": "python",
   "nbconvert_exporter": "python",
   "pygments_lexer": "ipython3",
   "version": "3.5.4"
  }
 },
 "nbformat": 4,
 "nbformat_minor": 2
}
