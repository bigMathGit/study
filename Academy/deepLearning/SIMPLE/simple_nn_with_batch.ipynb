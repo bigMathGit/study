{
 "cells": [
  {
   "cell_type": "code",
   "execution_count": 1,
   "metadata": {
    "collapsed": true
   },
   "outputs": [],
   "source": [
    "import tensorflow as tf\n",
    "import numpy as np\n",
    "import random\n",
    "import matplotlib.pyplot as plt"
   ]
  },
  {
   "cell_type": "code",
   "execution_count": 2,
   "metadata": {
    "collapsed": true
   },
   "outputs": [],
   "source": [
    "# y = w * x + b 함수\n",
    "def myfunc(_x):\n",
    "  w = 1.3 # 기울기\n",
    "  b = 2.6 # y 절편.  점(0, 2.6)\n",
    "  # x 절편은 점(-2, 0)이 됨.\n",
    "  _y = w * _x + b\n",
    "  noise = random.random() * 0.01    # Noise\n",
    "  return _y + noise"
   ]
  },
  {
   "cell_type": "code",
   "execution_count": 3,
   "metadata": {},
   "outputs": [
    {
     "name": "stdout",
     "output_type": "stream",
     "text": [
      "xlist : [0.0015005400924700263, 0.12110966750208063, 0.12186579649274332, 0.17166394095864845, 0.17301136886147483, 0.21865150171783032, 0.26484339442407134, 0.37539115444439886, 0.42010261451764674, 0.45129526082447746, 0.5482131331126977, 0.6106905462578277, 0.6673903733514863, 0.683649100643065, 0.8195552809554818, 0.9309805696188045, 1.0635238949191423, 1.1309625466989692, 1.151851164846653, 1.2934550869033523, 1.3179795304124435, 1.3346006767556973, 1.3795360229690639, 1.4216006235756469, 1.4388125250236334, 1.520376074319758, 1.6314342733745912, 1.7298619881666055, 1.7630563002192652, 1.767779462138298, 1.7756772609313427, 1.8098551077868645, 1.9328046580633795, 1.9695253997318152, 2.005536720488056, 2.0245530433485053, 2.06247858494251, 2.157493262161661, 2.1721826588882203, 2.187117564935421, 2.2036788921374577, 2.355629365437697, 2.46513700509582, 2.4933829304996937, 2.5012212589471132, 2.5109793392748614, 2.5312142243957854, 2.5708931463854166, 2.6358333126952695, 2.7188878168576407, 2.753801708888239, 2.8414571988317356, 2.9218953651193607, 2.994702907263705, 3.010534560856282, 3.013956241304971, 3.0402216250557768, 3.0864282372175182, 3.164397600637328, 3.2455490973116525, 3.2555132493936627, 3.2952273807098207, 3.331203006182197, 3.417655849918911, 3.4253687076786794, 3.4677313089447717, 3.6125565636876034, 3.6157225210084674, 3.6334118164481213, 3.7036875107169727, 3.7239374561588434, 3.830053560040504, 3.9741255765643464, 4.030532965196368, 4.039449847394326, 4.070702876769002, 4.089554359659217, 4.128859180424164, 4.1470463104305795, 4.171774235124735, 4.185851719937736, 4.19147165218854, 4.235163327804261, 4.253881661792176, 4.258470664489825, 4.303024478707914, 4.304137574887214, 4.3416263129275965, 4.4208632955744855, 4.432685253356314, 4.4349063615600715, 4.441830677210868, 4.553714765624729, 4.611551742201368, 4.651155073339684, 4.785413771427221, 4.791025670538039, 4.796978867645018, 4.85020121412258, 4.876202345499471]\n",
      "ylist : [2.604738312173125, 2.7595131623089055, 2.7618714701257527, 2.8313628474150043, 2.8273777186549856, 2.893472396364512, 2.9500456512528386, 3.0923840527010715, 3.1550008208960247, 3.1924989041411354, 3.316960872724303, 3.4005621504370653, 3.4768118853231367, 3.49383454047745, 3.669516292659845, 3.81734316014637, 3.984585211544711, 4.071712723685238, 4.100554095961644, 4.291003772068918, 4.31821302543348, 4.344663073219113, 4.401802178925675, 4.456253285064533, 4.472184530745983, 4.57688100380086, 4.7216871613912765, 4.851668778535148, 4.900028398209291, 4.902811606253251, 4.90950810781878, 4.962013622546631, 5.119949397028775, 5.168234089561743, 5.212665428768358, 5.235608291573461, 5.281608969866367, 5.411143068995753, 5.428661366994622, 5.447068070940714, 5.465946999166567, 5.667579206958153, 5.8146698097317, 5.8476474071320315, 5.860224587299826, 5.871426108892027, 5.8978324171045005, 5.949660817084234, 6.027013987784508, 6.13725882787829, 6.181078010269586, 6.301515904734813, 6.406067315420043, 6.496480581641477, 6.51759491486692, 6.525996303947654, 6.554596367035228, 6.613240635997143, 6.716133976798375, 6.820554411075717, 6.840659819413251, 6.886823402922327, 6.93508072087517, 7.048554341668874, 7.058134473714565, 7.112146959675025, 7.300592917319406, 7.309699473757515, 7.329079527810967, 7.417438046476241, 7.442743585814922, 7.579513288574752, 7.771897568782139, 7.844940797526798, 7.856622864750451, 7.900145482077479, 7.92356659700723, 7.9727638309883, 7.999482757750475, 8.025342801338159, 8.041848446020957, 8.0554321786514, 8.108920084389046, 8.135653692127974, 8.141118147916258, 8.202233761656062, 8.203632503221726, 8.244397296621193, 8.356155467972195, 8.366569344211742, 8.367884865890995, 8.375944405105955, 8.529754616636662, 8.604944749731672, 8.651765190602717, 8.829097504979403, 8.828878267052175, 8.842268956398438, 8.905900759310263, 8.94113385713947]\n",
      "type(xlist) : <class 'list'>\n",
      "type(ylist) : <class 'list'>\n"
     ]
    }
   ],
   "source": [
    "# random.random() -- 0.0 ~ 1.0\n",
    "NUM_DATA = 100          # 데이터 갯수\n",
    "XVALUE = 5              # X값의 범위 (0.0 ~ 5.0)\n",
    "# type: python list\n",
    "xlist = [random.random() * XVALUE for i in range(NUM_DATA)]\n",
    "xlist.sort()            # sorting\n",
    "ylist = [myfunc(x) for x in xlist]\n",
    "xtest = [random.random() * XVALUE for i in range(NUM_DATA)]\n",
    "xtest.sort()\n",
    "ytest = [myfunc(x) for x in xtest]\n",
    "print('xlist :',xlist)\n",
    "print('ylist :',ylist)\n",
    "print('type(xlist) :', type(xlist))\n",
    "print('type(ylist) :', type(ylist))"
   ]
  },
  {
   "cell_type": "code",
   "execution_count": 4,
   "metadata": {},
   "outputs": [
    {
     "data": {
      "image/png": "[encoded data removed]",
      "text/plain": [
       "<matplotlib.figure.Figure at 0x1b9da9631d0>"
      ]
     },
     "metadata": {},
     "output_type": "display_data"
    }
   ],
   "source": [
    "# actual data 산점도\n",
    "fig, ax = plt.subplots()\n",
    "ax.plot(xlist, ylist, label='actual')\n",
    "plt.show()"
   ]
  },
  {
   "cell_type": "code",
   "execution_count": 5,
   "metadata": {},
   "outputs": [
    {
     "name": "stdout",
     "output_type": "stream",
     "text": [
      "xlist.shape : (100,)\n",
      "ylist.shape : (100,)\n"
     ]
    }
   ],
   "source": [
    "# type 변환 python list -> numpy ndarray\n",
    "# type: numpy ndarray\n",
    "xlist = np.array(xlist)\n",
    "ylist = np.array(ylist)\n",
    "print('xlist.shape :',xlist.shape)  # shape ==  (10,)\n",
    "print('ylist.shape :',ylist.shape)  # shape ==  (10,)\n",
    "xtest = np.array(xtest)\n",
    "ytest = np.array(ytest)"
   ]
  },
  {
   "cell_type": "code",
   "execution_count": 6,
   "metadata": {},
   "outputs": [
    {
     "name": "stdout",
     "output_type": "stream",
     "text": [
      "xlist.shape : (100, 1)\n",
      "ylist.shape : (100, 1)\n"
     ]
    }
   ],
   "source": [
    "# tensor 에 맞추기 위해 reshape\n",
    "xlist = xlist.reshape((NUM_DATA, 1))\n",
    "ylist = ylist.reshape((NUM_DATA, 1))\n",
    "print('xlist.shape :', xlist.shape) # shape ==  (10,1)\n",
    "print('ylist.shape :', ylist.shape) # shape ==  (10,1)\n",
    "xtest = xtest.reshape((NUM_DATA, 1))\n",
    "ytest = ytest.reshape((NUM_DATA, 1))"
   ]
  },
  {
   "cell_type": "code",
   "execution_count": 7,
   "metadata": {
    "collapsed": true
   },
   "outputs": [],
   "source": [
    "X = tf.placeholder(tf.float32, [None, 1], name='inputPlace')\n",
    "y = tf.placeholder(tf.float32, [None, 1])\n",
    "W = tf.Variable(tf.random_normal([1,1], -1, 1), name='weight')\n",
    "b = tf.Variable(tf.random_normal([1], -1, 1), name='bias')\n",
    "O = tf.matmul(X, W) + b   # [1,1]행렬 x [1,1]행렬 + [1]"
   ]
  },
  {
   "cell_type": "code",
   "execution_count": 8,
   "metadata": {},
   "outputs": [
    {
     "name": "stdout",
     "output_type": "stream",
     "text": [
      "X :  inputPlace:0\n"
     ]
    }
   ],
   "source": [
    "# 손실 함수\n",
    "cost_function = tf.reduce_mean(tf.square(O - y))\n",
    "# 옵티마이저\n",
    "optimizer = tf.train.GradientDescentOptimizer(learning_rate=0.1)\n",
    "training = optimizer.minimize(cost_function)\n",
    "\n",
    "# 옵티마이저\n",
    "optimizer2 = tf.train.AdamOptimizer(learning_rate=0.1)\n",
    "training2 = optimizer.minimize(cost_function)\n",
    "\n",
    "print('X : ', X.name)"
   ]
  },
  {
   "cell_type": "code",
   "execution_count": 9,
   "metadata": {
    "collapsed": true
   },
   "outputs": [],
   "source": [
    "# loss list\n",
    "see_loss_summary = []           # Record accuracy values for plot\n",
    "see_loss_summary2 = []           # Record accuracy values for plot"
   ]
  },
  {
   "cell_type": "code",
   "execution_count": 10,
   "metadata": {},
   "outputs": [
    {
     "name": "stdout",
     "output_type": "stream",
     "text": [
      "LOSS [1.6513003] W [[ 1.52446675]] bias [ 0.77891612]\n",
      "LOSS [1.3041825] W [[ 1.36993623]] bias [ 1.28549814]\n",
      "LOSS [0.65398127] W [[ 1.33577299]] bias [ 1.70483208]\n",
      "LOSS [0.34598491] W [[ 1.3084507]] bias [ 1.99488628]\n",
      "LOSS [0.18904981] W [[ 1.28951585]] bias [ 2.19776464]\n",
      "LOSS [0.10831607] W [[ 1.27627206]] bias [ 2.33956051]\n",
      "LOSS [0.066018999] W [[ 1.26701283]] bias [ 2.43866992]\n",
      "LOSS [0.0433455] W [[ 1.26054919]] bias [ 2.50794673]\n",
      "LOSS [0.03087409] W [[ 1.25603056]] bias [ 2.55636525]\n",
      "LOSS [0.023816518] W [[ 1.25286114]] bias [ 2.590204]\n",
      "LOSS [0.019679923] W [[ 1.25065279]] bias [ 2.61386108]\n",
      "LOSS [0.017184051] W [[ 1.24910676]] bias [ 2.63039589]\n",
      "LOSS [0.015626449] W [[ 1.24803257]] bias [ 2.6419549]\n",
      "LOSS [0.014637747] W [[ 1.24727452]] bias [ 2.65003037]\n",
      "LOSS [0.013989649] W [[ 1.24674797]] bias [ 2.65567732]\n",
      "LOSS [0.013555466] W [[ 1.2463851]] bias [ 2.65962505]\n",
      "LOSS [0.013269532] W [[ 1.24612296]] bias [ 2.6623795]\n",
      "LOSS [0.013068693] W [[ 1.2459482]] bias [ 2.66430879]\n",
      "LOSS [0.012935519] W [[ 1.24581993]] bias [ 2.66565394]\n",
      "LOSS [0.012839751] W [[ 1.24573576]] bias [ 2.66659641]\n",
      "LOSS [0.012782783] W [[ 1.24566364]] bias [ 2.66725087]\n",
      "LOSS [0.012733133] W [[ 1.24562693]] bias [ 2.66771603]\n",
      "LOSS [0.01269823] W [[ 1.24560249]] bias [ 2.66803837]\n",
      "LOSS [0.012683442] W [[ 1.24557209]] bias [ 2.66825795]\n",
      "LOSS [0.012665417] W [[ 1.24556112]] bias [ 2.66841817]\n",
      "LOSS [0.012650302] W [[ 1.24555755]] bias [ 2.66852951]\n",
      "LOSS [0.012648747] W [[ 1.24554253]] bias [ 2.66860151]\n",
      "LOSS [0.012646097] W [[ 1.24553359]] bias [ 2.6686554]\n",
      "LOSS [0.012634551] W [[ 1.2455411]] bias [ 2.66869831]\n",
      "LOSS [0.012633631] W [[ 1.24553704]] bias [ 2.66872096]\n",
      "LOSS [0.012632823] W [[ 1.2455343]] bias [ 2.66873741]\n",
      "LOSS [0.012633546] W [[ 1.24553025]] bias [ 2.66874957]\n",
      "LOSS [0.012635219] W [[ 1.24552548]] bias [ 2.66875863]\n",
      "LOSS [0.012634204] W [[ 1.24552488]] bias [ 2.66876745]\n",
      "LOSS [0.012630536] W [[ 1.24552894]] bias [ 2.66877437]\n",
      "LOSS [0.012623573] W [[ 1.24553871]] bias [ 2.66877842]\n",
      "LOSS [0.012634123] W [[ 1.24552393]] bias [ 2.66877198]\n",
      "LOSS [0.012634733] W [[ 1.2455219]] bias [ 2.66877651]\n",
      "LOSS [0.012630722] W [[ 1.24552691]] bias [ 2.66878152]\n",
      "LOSS [0.012630636] W [[ 1.24552691]] bias [ 2.668782]\n",
      "LOSS [0.012630636] W [[ 1.24552691]] bias [ 2.668782]\n",
      "LOSS [0.012630636] W [[ 1.24552691]] bias [ 2.668782]\n",
      "LOSS [0.012630636] W [[ 1.24552691]] bias [ 2.668782]\n",
      "LOSS [0.012630636] W [[ 1.24552691]] bias [ 2.668782]\n",
      "LOSS [0.012630636] W [[ 1.24552691]] bias [ 2.668782]\n",
      "LOSS [0.012630636] W [[ 1.24552691]] bias [ 2.668782]\n",
      "LOSS [0.012630636] W [[ 1.24552691]] bias [ 2.668782]\n",
      "LOSS [0.012630636] W [[ 1.24552691]] bias [ 2.668782]\n",
      "LOSS [0.012630636] W [[ 1.24552691]] bias [ 2.668782]\n",
      "LOSS [0.012630636] W [[ 1.24552691]] bias [ 2.668782]\n",
      "LOSS [1.0170245] W [[ 1.41616631]] bias [ 1.3086611]\n",
      "LOSS [0.6797722] W [[ 1.33475268]] bias [ 1.69156921]\n",
      "LOSS [0.35274941] W [[ 1.30929494]] bias [ 1.98699117]\n",
      "LOSS [0.19272748] W [[ 1.29003227]] bias [ 2.19218135]\n",
      "LOSS [0.110224] W [[ 1.27663314]] bias [ 2.3356607]\n",
      "LOSS [0.067027718] W [[ 1.26726627]] bias [ 2.43594599]\n",
      "LOSS [0.043901414] W [[ 1.26072001]] bias [ 2.50604177]\n",
      "LOSS [0.031182203] W [[ 1.25615168]] bias [ 2.55503678]\n",
      "LOSS [0.023989016] W [[ 1.25295079]] bias [ 2.58927774]\n",
      "LOSS [0.019783255] W [[ 1.25071478]] bias [ 2.61321259]\n",
      "LOSS [0.017248083] W [[ 1.24914944]] bias [ 2.62994194]\n",
      "LOSS [0.015669255] W [[ 1.24805927]] bias [ 2.64163709]\n",
      "LOSS [0.014659695] W [[ 1.24730051]] bias [ 2.64981127]\n",
      "LOSS [0.014005356] W [[ 1.2467649]] bias [ 2.65552163]\n",
      "LOSS [0.013572142] W [[ 1.24638855]] bias [ 2.65951324]\n",
      "LOSS [0.013278957] W [[ 1.24612725]] bias [ 2.66230536]\n",
      "LOSS [0.013076967] W [[ 1.24594831]] bias [ 2.66425753]\n",
      "LOSS [0.012940347] W [[ 1.24582076]] bias [ 2.66562057]\n",
      "LOSS [0.012846164] W [[ 1.24573159]] bias [ 2.66657329]\n",
      "LOSS [0.012782196] W [[ 1.24566746]] bias [ 2.66723895]\n",
      "LOSS [0.012729963] W [[ 1.24563396]] bias [ 2.6677072]\n",
      "LOSS [0.012704981] W [[ 1.24559498]] bias [ 2.66802645]\n",
      "LOSS [0.012684775] W [[ 1.24557078]] bias [ 2.66825485]\n",
      "LOSS [0.012665226] W [[ 1.24556172]] bias [ 2.66841698]\n",
      "LOSS [0.012656334] W [[ 1.24554896]] bias [ 2.66852641]\n",
      "LOSS [0.012648385] W [[ 1.24554241]] bias [ 2.66860437]\n",
      "LOSS [0.01264138] W [[ 1.24554002]] bias [ 2.66865897]\n",
      "LOSS [0.012637457] W [[ 1.24553716]] bias [ 2.66869593]\n",
      "LOSS [0.012641293] W [[ 1.2455256]] bias [ 2.66871929]\n",
      "LOSS [0.012636771] W [[ 1.24552703]] bias [ 2.66874218]\n",
      "LOSS [0.012631629] W [[ 1.24553132]] bias [ 2.66875744]\n",
      "LOSS [0.012633231] W [[ 1.24552739]] bias [ 2.6687634]\n",
      "LOSS [0.012631066] W [[ 1.24552906]] bias [ 2.66877031]\n",
      "LOSS [0.012634022] W [[ 1.24552393]] bias [ 2.6687727]\n",
      "LOSS [0.012629689] W [[ 1.24552917]] bias [ 2.66877866]\n",
      "LOSS [0.012632549] W [[ 1.24552488]] bias [ 2.66877818]\n",
      "LOSS [0.012637122] W [[ 1.24551749]] bias [ 2.66877937]\n",
      "LOSS [0.012629857] W [[ 1.24552703]] bias [ 2.66878653]\n",
      "LOSS [0.012630586] W [[ 1.24552631]] bias [ 2.66878486]\n",
      "LOSS [0.012632838] W [[ 1.24552298]] bias [ 2.66878414]\n",
      "LOSS [0.012633195] W [[ 1.24552214]] bias [ 2.66878533]\n",
      "LOSS [0.012629245] W [[ 1.24552774]] bias [ 2.66878748]\n",
      "LOSS [0.012630586] W [[ 1.24552631]] bias [ 2.66878486]\n",
      "LOSS [0.012632838] W [[ 1.24552298]] bias [ 2.66878414]\n",
      "LOSS [0.012633195] W [[ 1.24552214]] bias [ 2.66878533]\n",
      "LOSS [0.012629245] W [[ 1.24552774]] bias [ 2.66878748]\n",
      "LOSS [0.012630586] W [[ 1.24552631]] bias [ 2.66878486]\n",
      "LOSS [0.012632838] W [[ 1.24552298]] bias [ 2.66878414]\n",
      "LOSS [0.012633195] W [[ 1.24552214]] bias [ 2.66878533]\n",
      "LOSS [0.012629245] W [[ 1.24552774]] bias [ 2.66878748]\n"
     ]
    }
   ],
   "source": [
    "# Session 시작\n",
    "sess = tf.Session()\n",
    "sess.run(tf.global_variables_initializer())\n",
    "BATCH_SIZE = int(NUM_DATA / 10) # 한번의 training에 넣는 데이터의 개수.  10\n",
    "for i in range(50):\n",
    "    for batch in range(int(2000 / BATCH_SIZE)): # 200\n",
    "        batch_x = xlist[batch * BATCH_SIZE : (1+batch) * BATCH_SIZE]\n",
    "        batch_y = ylist[batch * BATCH_SIZE : (1+batch) * BATCH_SIZE]\n",
    "\n",
    "        res_training, cost_val  = sess.run([training, cost_function],\n",
    "                                             feed_dict={X: batch_x, y:batch_y})\n",
    "        # if cost_val < 0.0000001:\n",
    "        #     break\n",
    "\n",
    "    see_loss = sess.run([cost_function],\n",
    "                        feed_dict={X: xtest, y: ytest})\n",
    "    res_o, res_w, res_b = sess.run([O, W, b], feed_dict={X: xtest, y: ytest})\n",
    "\n",
    "    print('LOSS', see_loss, end=' ')\n",
    "    print('W', res_w, 'bias', res_b)\n",
    "\n",
    "    see_loss_summary.append(see_loss)\n",
    "\n",
    "sess.run(tf.global_variables_initializer())\n",
    "for i in range(50):\n",
    "    for batch in range(int(2000 / BATCH_SIZE)):  # 200\n",
    "        batch_x = xlist[batch * BATCH_SIZE: (1 + batch) * BATCH_SIZE]\n",
    "        batch_y = ylist[batch * BATCH_SIZE: (1 + batch) * BATCH_SIZE]\n",
    "\n",
    "        res_training, cost_val = sess.run([training2, cost_function],\n",
    "                                          feed_dict={X: batch_x, y: batch_y})\n",
    "        # if cost_val < 0.0000001:\n",
    "        #     break\n",
    "\n",
    "    see_loss = sess.run([cost_function],\n",
    "                        feed_dict={X: xtest, y: ytest})\n",
    "    res_o, res_w, res_b = sess.run([O, W, b], feed_dict={X: xtest, y: ytest})\n",
    "\n",
    "    print('LOSS', see_loss, end=' ')\n",
    "    print('W', res_w, 'bias', res_b)\n",
    "\n",
    "    see_loss_summary2.append(see_loss)"
   ]
  },
  {
   "cell_type": "code",
   "execution_count": 11,
   "metadata": {},
   "outputs": [
    {
     "data": {
      "image/png": "[encoded data removed]",
      "text/plain": [
       "<matplotlib.figure.Figure at 0x1b9da958ac8>"
      ]
     },
     "metadata": {},
     "output_type": "display_data"
    }
   ],
   "source": [
    "# Plot the accuracy and cost summaries\n",
    "f, ax1 = plt.subplots(1, 1, sharex=True, figsize=(10,4))\n",
    "\n",
    "ax1.plot(see_loss_summary,  label='GradientDescentOptimizer')    # GradientDescentOptimizer\n",
    "ax1.plot(see_loss_summary2, label='AdamOptimizer')                 # green AdamOptimizer\n",
    "ax1.set_title('optimizer')\n",
    "\n",
    "plt.xlabel('Epochs')\n",
    "plt.ylabel('Losses')\n",
    "plt.legend()\n",
    "plt.show()"
   ]
  },
  {
   "cell_type": "code",
   "execution_count": null,
   "metadata": {
    "collapsed": true
   },
   "outputs": [],
   "source": []
  }
 ],
 "metadata": {
  "kernelspec": {
   "display_name": "Python 3",
   "language": "python",
   "name": "python3"
  },
  "language_info": {
   "codemirror_mode": {
    "name": "ipython",
    "version": 3
   },
   "file_extension": ".py",
   "mimetype": "text/x-python",
   "name": "python",
   "nbconvert_exporter": "python",
   "pygments_lexer": "ipython3",
   "version": "3.6.3"
  }
 },
 "nbformat": 4,
 "nbformat_minor": 2
}
