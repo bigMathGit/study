{
 "cells": [
  {
   "cell_type": "code",
   "execution_count": 1,
   "metadata": {},
   "outputs": [
    {
     "name": "stderr",
     "output_type": "stream",
     "text": [
      "/home/nbuser/anaconda3_501/lib/python3.6/importlib/_bootstrap.py:205: RuntimeWarning: compiletime version 3.5 of module 'tensorflow.python.framework.fast_tensor_util' does not match runtime version 3.6\n",
      "  return f(*args, **kwds)\n"
     ]
    },
    {
     "name": "stdout",
     "output_type": "stream",
     "text": [
      "TRAIN (867,)\n",
      "TEST (180,)\n",
      "TRAIN X (787, 80, 1)\n",
      "TRAIN Y (787, 1)\n",
      "LOSS: square  OPT: rms\n",
      "DataSet X (787, 80, 1)\n",
      "DataSet Y (787, 1)\n",
      "DataSet num_examples 787\n",
      "Step 1: Acc= 0.273875, LR= 0.100000\n",
      "Validation: 0.162242\n",
      "Step 100: Acc= 0.021352, LR= 0.100000\n",
      "Validation: 0.011259\n",
      "Step 200: Acc= 0.018585, LR= 0.097000\n",
      "Validation: 0.015401\n",
      "Step 300: Acc= 0.059829, LR= 0.097000\n",
      "Validation: 0.115567\n",
      "Step 400: Acc= 0.004524, LR= 0.094090\n",
      "Validation: 0.000666\n",
      "Step 500: Acc= 0.003784, LR= 0.094090\n",
      "Validation: 0.007012\n",
      "Step 600: Acc= 0.000254, LR= 0.091267\n",
      "Validation: 0.000478\n",
      "Step 700: Acc= 0.012049, LR= 0.091267\n",
      "Validation: 0.003859\n",
      "Step 800: Acc= 0.022897, LR= 0.088529\n",
      "Validation: 0.011660\n",
      "Step 900: Acc= 0.030038, LR= 0.088529\n",
      "Validation: 0.043796\n",
      "Step 1000: Acc= 0.020610, LR= 0.085873\n",
      "Validation: 0.036969\n",
      "Test: 0.026498\n"
     ]
    },
    {
     "name": "stderr",
     "output_type": "stream",
     "text": [
      "/home/nbuser/anaconda3_501/lib/python3.6/site-packages/matplotlib/figure.py:1999: UserWarning: This figure includes Axes that are not compatible with tight_layout, so results might be incorrect.\n",
      "  warnings.warn(\"This figure includes Axes that are not compatible \"\n"
     ]
    },
    {
     "data": {
      "image/png": "[encoded data removed]",
      "text/plain": [
       "<matplotlib.figure.Figure at 0x7fd19a1b55c0>"
      ]
     },
     "metadata": {},
     "output_type": "display_data"
    }
   ],
   "source": [
    "import numpy as np\n",
    "\n",
    "import DATA\n",
    "import LSTM\n",
    "import PLOT\n",
    "\n",
    "'''\n",
    "1차원 데이타의 시계열 LSTM 학습/테스트\n",
    "'''\n",
    "\n",
    "def lstm_with_sin():\n",
    "  orgdata = np.linspace(0, 40, 1200, dtype=np.float32)\n",
    "  sindata = np.sin(orgdata)\n",
    "  \n",
    "  train, validation, test = DATA.split_data(sindata)\n",
    "  WINDOWSIZE = 80\n",
    "  train_x, train_y = DATA.getSeriesData(train, WINDOWSIZE)\n",
    "  valid_x, valid_y = DATA.getSeriesData(validation, WINDOWSIZE)\n",
    "  test_x, test_y = DATA.getSeriesData(test, WINDOWSIZE)\n",
    "  \n",
    "  print('TRAIN', train.shape)\n",
    "  print('TEST', test.shape)\n",
    "  print('TRAIN X', train_x.shape)\n",
    "  print('TRAIN Y', train_y.shape)\n",
    "  \n",
    "  lstm = LSTM.LSTM(1, WINDOWSIZE, 4, 1, loss='square', opt='rms')\n",
    "  lstm.set_validation_data(valid_x, valid_y, valid_stop=0.0001)\n",
    "  lstm.run(train_x, train_y, batch_size=100, epochs=1000)\n",
    "  lstm.do_test(test_x, test_y)\n",
    "  predict_y = lstm.predict(test_x)\n",
    "  chart = PLOT.LineChart()\n",
    "  chart.line(test_y, 'Actual')\n",
    "  chart.line(predict_y, 'ByNN')\n",
    "  chart.show()\n",
    "\n",
    "\n",
    "if __name__ == '__main__':\n",
    "  lstm_with_sin()\n",
    "\n",
    "\n"
   ]
  },
  {
   "cell_type": "code",
   "execution_count": null,
   "metadata": {
    "collapsed": true
   },
   "outputs": [],
   "source": []
  }
 ],
 "metadata": {
  "kernelspec": {
   "display_name": "Python 3.6",
   "language": "python",
   "name": "python36"
  },
  "language_info": {
   "codemirror_mode": {
    "name": "ipython",
    "version": 3
   },
   "file_extension": ".py",
   "mimetype": "text/x-python",
   "name": "python",
   "nbconvert_exporter": "python",
   "pygments_lexer": "ipython3",
   "version": "3.6.2"
  }
 },
 "nbformat": 4,
 "nbformat_minor": 2
}
