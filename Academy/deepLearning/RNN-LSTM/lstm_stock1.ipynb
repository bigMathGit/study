{
 "cells": [
  {
   "cell_type": "code",
   "execution_count": null,
   "metadata": {
    "collapsed": true
   },
   "outputs": [],
   "source": [
    "import numpy as np\n",
    "import pandas as pd\n",
    "import DATA\n",
    "import LSTM\n",
    "import PLOT\n",
    "\n",
    "'''\n",
    "2차원 데이타의 시계열 LSTM 학습/테스트\n",
    "'''\n",
    "\n",
    "\n",
    "def MinMaxScaler(data):\n",
    "  numerator = data - np.min(data, 0)\n",
    "  denominator = np.max(data, 0) - np.min(data, 0)\n",
    "  # noise term prevents the zero division\n",
    "  return numerator / (denominator + 1e-7)\n",
    "\n",
    "\n",
    "def lstm_stock(fname):\n",
    "  df = pd.read_csv(fname, header=0)\n",
    "  print(df.columns)\n",
    "  MAX_PRICE = df.Open.max()\n",
    "  print('MAX_PRICE', MAX_PRICE)\n",
    "  df = df[df.Open != 0][['Open']]\n",
    "  df.Open = df.Open / MAX_PRICE\n",
    "  xy = df.as_matrix()\n",
    "  #xy = MinMaxScaler(xy)\n",
    "  \n",
    "  train, validation, test = DATA.split_data(xy, val_size=0.1, test_size=0.1)\n",
    "  WINDOWSIZE = 60\n",
    "  train_x, train_y = DATA.getSeriesData(train, WINDOWSIZE, elementdim=1)\n",
    "  valid_x, valid_y = DATA.getSeriesData(validation, WINDOWSIZE, elementdim=1)\n",
    "  test_x, test_y = DATA.getSeriesData(test, WINDOWSIZE, elementdim=1)\n",
    "  \n",
    "  print('TRAIN', train.shape)\n",
    "  print('TEST', test.shape)\n",
    "  print('TRAIN X', train_x.shape)\n",
    "  print('TRAIN Y', train_y.shape)\n",
    "  \n",
    "  \n",
    "  lstm = LSTM.LSTM(1, WINDOWSIZE, 4, 1, loss='square', opt='adam')\n",
    "  lstm.set_validation_data(valid_x, valid_y, valid_stop=0.0001)\n",
    "  lstm.run(train_x, train_y, batch_size=int(train_x.shape[0] / 20), epochs=1000)\n",
    "  lstm.do_test(test_x, test_y)\n",
    "  predict_y = lstm.predict(test_x)\n",
    "  chart = PLOT.LineChart()\n",
    "  chart.line(test_y[:, 0] * MAX_PRICE, 'Actual')\n",
    "  chart.line(predict_y[:, 0] * MAX_PRICE, 'ByNN')\n",
    "  chart.show()\n",
    "  \n",
    "\n",
    "\n",
    "if __name__ == '__main__':\n",
    "  lstm_stock('samsung.csv')\n",
    "\n"
   ]
  }
 ],
 "metadata": {
  "kernelspec": {
   "display_name": "Python 3.6",
   "language": "python",
   "name": "python36"
  },
  "language_info": {
   "codemirror_mode": {
    "name": "ipython",
    "version": 3
   },
   "file_extension": ".py",
   "mimetype": "text/x-python",
   "name": "python",
   "nbconvert_exporter": "python",
   "pygments_lexer": "ipython3",
   "version": "3.6.2"
  }
 },
 "nbformat": 4,
 "nbformat_minor": 2
}
