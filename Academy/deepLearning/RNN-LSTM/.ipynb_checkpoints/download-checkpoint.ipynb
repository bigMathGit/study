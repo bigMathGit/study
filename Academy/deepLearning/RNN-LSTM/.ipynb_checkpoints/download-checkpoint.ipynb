{
 "cells": [
  {
   "cell_type": "code",
   "execution_count": null,
   "metadata": {
    "collapsed": true
   },
   "outputs": [],
   "source": [
    "# data scrolling parts\n",
    "import pandas as pd\n",
    "import numpy as np\n",
    "from pandas_datareader import data, wb\n",
    "import datetime\n",
    "\n",
    "JONGMOK = {\n",
    "\n",
    "}\n",
    "\n",
    "def save_one_from_yahoo(company, filename):\n",
    "  start = datetime.datetime(2010, 1, 1)\n",
    "  #end = datetime.datetime(2017, 12, 6) # 날짜 지정\n",
    "  end = datetime.datetime.today() # 오늘 날짜\n",
    "  \n",
    "  df = data.DataReader(company, \"yahoo\", start, end)\n",
    "  # df = data.get_data_yahoo(company) # DataReader() 기능과 유사.\n",
    "  for col_name in df:\n",
    "    print('COL:', col_name)\n",
    "    df[col_name].fillna(value=0, inplace=True)\n",
    "    #df[col_name] = df[col_name].astype(int)\n",
    "    df[col_name] = df[col_name].map(lambda x: '%.2f' % x)\n",
    "  \n",
    "  df.to_csv(filename, header=True, index=True) # index가 날짜임\n",
    "  print('Saved', filename)\n",
    "  \n",
    "if __name__ == '__main__':\n",
    "  '''\n",
    "  Yahoo Finance에서는\n",
    "  KOSPI == '^KS11'\n",
    "  Samsung Electronics Co., Ltd. (SSNLF)\n",
    "\n",
    "  Google Finance에서는\n",
    "  KOSPI = \"KRX:KOSPI\"\n",
    "  삼성전자 == \"KRX:005930\"\n",
    "  '''\n",
    "  save_one_from_yahoo('^KS11', 'kospi.csv')\n",
    "  save_one_from_yahoo('SSNLF', 'samsung.csv')\n",
    "  save_one_from_yahoo('AMZN', 'amazon.csv')\n",
    "  save_one_from_yahoo('AAPL', 'apple.csv')\n",
    "\n"
   ]
  }
 ],
 "metadata": {
  "kernelspec": {
   "display_name": "Python 3.6",
   "language": "python",
   "name": "python36"
  },
  "language_info": {
   "codemirror_mode": {
    "name": "ipython",
    "version": 3
   },
   "file_extension": ".py",
   "mimetype": "text/x-python",
   "name": "python",
   "nbconvert_exporter": "python",
   "pygments_lexer": "ipython3",
   "version": "3.6.2"
  }
 },
 "nbformat": 4,
 "nbformat_minor": 2
}
